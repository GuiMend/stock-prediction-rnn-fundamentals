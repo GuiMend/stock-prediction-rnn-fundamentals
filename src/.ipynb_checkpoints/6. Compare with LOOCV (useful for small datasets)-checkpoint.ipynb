{
 "cells": [
  {
   "cell_type": "markdown",
   "metadata": {},
   "source": [
    "Como o dataset possui poucas linhas de dados, foi comparado a tecnica da separação por train/test com a Leave-one-out Cross Validation (LOOCV)"
   ]
  },
  {
   "cell_type": "code",
   "execution_count": null,
   "metadata": {},
   "outputs": [],
   "source": [
    "import tcc_utils\n",
    "import tratamento_dados_empresa\n",
    "from keras.initializers import glorot_normal as gl_normal, glorot_uniform as gl_uni, RandomUniform as rnd_uni\n",
    "\n",
    "x_csv_path = '../data/grendene-indicadores-financeiros-raw.csv'\n",
    "y_csv_path = '../data/grendene-cotacao-raw.csv'\n",
    "\n",
    "X = tratamento_dados_empresa.treat_economatica_indicadores_financeiros(x_csv_path)\n",
    "\n",
    "# Spliting test / train and Feature Scaling\n",
    "x_train, x_test, y_train, y_test, x_scaler, y_scaler = tratamento_dados_empresa. \\\n",
    "    get_scaled_splits_and_scaler(x_csv_path, y_csv_path, 0.2, 0)\n",
    "\n",
    "number_hidden_layer = round(x_train.shape[1]*1.5)"
   ]
  },
  {
   "cell_type": "code",
   "execution_count": null,
   "metadata": {},
   "outputs": [],
   "source": []
  }
 ],
 "metadata": {
  "kernelspec": {
   "display_name": "Python 3",
   "language": "python",
   "name": "python3"
  }
 },
 "nbformat": 4,
 "nbformat_minor": 2
}

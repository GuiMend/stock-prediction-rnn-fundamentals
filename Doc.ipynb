{
 "cells": [
  {
   "cell_type": "markdown",
   "metadata": {},
   "source": [
    "## 1. Define Appropiately the Problem\n",
    "\n",
    "#### 1.1 What is the main objective? What are we trying to predict?\n",
    "\n",
    "The main objective of this project is to:\n",
    "- Have returns graeter than the brazilian markets benchmark Ibovespa in long periods (>10y)\n",
    "- Predict the values of the company's following quarter\n",
    "- Predict the stock price at the openning of the month following the quarter release\n",
    "\n",
    "#### 1.2 What are the target features?\n",
    "\n",
    "Company financial indicators (LPA, VPA, EBIT, ...)\n",
    "\n",
    "#### 1.3 What is the input data? Is it available?\n",
    "\n",
    "Input data is all numbers and it is available in Economatica\n",
    "\n",
    "#### 1.4 What kind of problem are we facing? Binary classification? Clustering?\n",
    "\n",
    "Predict a value inside an open interval\n",
    "\n",
    "#### 1.5 What is the expected improvement?\n",
    "#### 1.6 What is the current status of the target feature?\n",
    "#### 1.7 How is going to be measured the target feature?\n",
    "\n",
    "\n",
    "*OBS: Not every problem can be solved, until we have a working model we just can make certain hypothesis:*\n",
    "*- Our outputs can be predicted given the inputs.*\n",
    "*- Our available data is sufficient informative to learn the relationship between the inputs and the outputs.*\n",
    "*It is crucial to keep in mind that machine learning can only be used to memorize patterns that are present in the training data, so we can only recognize what we have seen before. When using Machine Learning we are making the assumption that the future will behave like the past, and this isn’t always true.*"
   ]
  },
  {
   "cell_type": "markdown",
   "metadata": {},
   "source": [
    "## 2. Collect Data\n",
    "\n",
    "This is the first real step towards the real development of a machine learning model, collecting data. This is a critical step that will cascade in how good the model will be, the more and better data that we get, the better our model will perform.\n",
    "\n",
    "*This project's data was gathered from Economatica's website. And it gathers its data from the company's own financial demonstrations released every quarter*"
   ]
  },
  {
   "cell_type": "code",
   "execution_count": null,
   "metadata": {},
   "outputs": [],
   "source": []
  }
 ],
 "metadata": {
  "kernelspec": {
   "display_name": "Python 3",
   "language": "python",
   "name": "python3"
  },
  "language_info": {
   "codemirror_mode": {
    "name": "ipython",
    "version": 3
   },
   "file_extension": ".py",
   "mimetype": "text/x-python",
   "name": "python",
   "nbconvert_exporter": "python",
   "pygments_lexer": "ipython3",
   "version": "3.7.3"
  }
 },
 "nbformat": 4,
 "nbformat_minor": 2
}

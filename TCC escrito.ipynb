{
 "cells": [
  {
   "cell_type": "markdown",
   "metadata": {},
   "source": [
    "# TCC escrito\n",
    "\n",
    "Weights initialization: https://www.youtube.com/watch?v=8krd5qKVw-Q&t=191s\n",
    "\n",
    "Hyper parameter tunning: Bayesian approach\n",
    "https://www.youtube.com/watch?v=ttE0F7fghfk&t=199s\n",
    "\n",
    "\n",
    "Split: train / validation / test: https://towardsdatascience.com/train-validation-and-test-sets-72cb40cba9e7"
   ]
  },
  {
   "cell_type": "code",
   "execution_count": null,
   "metadata": {},
   "outputs": [],
   "source": []
  }
 ],
 "metadata": {
  "kernelspec": {
   "display_name": "Python 3",
   "language": "python",
   "name": "python3"
  },
  "language_info": {
   "codemirror_mode": {
    "name": "ipython",
    "version": 3
   },
   "file_extension": ".py",
   "mimetype": "text/x-python",
   "name": "python",
   "nbconvert_exporter": "python",
   "pygments_lexer": "ipython3",
   "version": "3.7.3"
  }
 },
 "nbformat": 4,
 "nbformat_minor": 2
}
